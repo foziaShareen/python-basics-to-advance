{
 "cells": [
  {
   "cell_type": "markdown",
   "metadata": {},
   "source": [
    "<div style=\"background:#414148;font-size:20px;color:white display:flex align-items:center\"> string data type\n",
    "<li>how to write strings 🆎</li>\n",
    "<li>string concatenation 🧮</li>\n",
    "<li>escape sequence 🎏</li>\n",
    "<li>type conversion 🌀</li>\n",
    "<li>formatted string💫</li>\n",
    "<li>string indexing 🔢</li>\n",
    "\n",
    "</div>"
   ]
  },
  {
   "cell_type": "code",
   "execution_count": 43,
   "metadata": {},
   "outputs": [
    {
     "name": "stdout",
     "output_type": "stream",
     "text": [
      "something \n",
      "                 else   \n",
      "                 asd\n"
     ]
    }
   ],
   "source": [
    "# we can write string in 3 ways\n",
    "\n",
    "# 1 using single quotes\n",
    "name1='something'\n",
    "\n",
    "# 2 using double quotes\n",
    "name2=\"something else\"\n",
    "\n",
    "# 3 using triple quotes\n",
    "name3=\"\"\"something \n",
    "                 else   \n",
    "                 asd\"\"\"\n",
    "print(name3)\n",
    "\n",
    "\n"
   ]
  },
  {
   "cell_type": "code",
   "execution_count": 45,
   "metadata": {},
   "outputs": [
    {
     "name": "stdout",
     "output_type": "stream",
     "text": [
      "hello my name is  shahil \n"
     ]
    }
   ],
   "source": [
    "#what if we want to concatenate text\n",
    "\n",
    "name = 'fozia'\n",
    "\n",
    "print('hello my name is ' + ' '+'shahil ' )\n"
   ]
  },
  {
   "cell_type": "code",
   "execution_count": 50,
   "metadata": {},
   "outputs": [
    {
     "name": "stdout",
     "output_type": "stream",
     "text": [
      "200\n",
      "200.0\n",
      "<class 'str'>\n"
     ]
    }
   ],
   "source": [
    "#what to do if we want to change the data type of variabl\n",
    "\n",
    "\n",
    "num=200\n",
    "print(str(num))\n",
    "print(float(num))\n",
    "print(type(str(num)))"
   ]
  },
  {
   "cell_type": "code",
   "execution_count": 53,
   "metadata": {},
   "outputs": [
    {
     "name": "stdout",
     "output_type": "stream",
     "text": [
      "it\t not fair\n"
     ]
    }
   ],
   "source": [
    "text1 = 'it\\t not fair'\n",
    "print(text1)\n",
    "#escape character\n"
   ]
  },
  {
   "cell_type": "code",
   "execution_count": null,
   "metadata": {},
   "outputs": [],
   "source": [
    "#formatted string\n",
    "name = 'fozia'  \n",
    "age = 20\n",
    "print(f'Hello my name is {name} and i am {age} years old')\n",
    "#by doing this we can change the data type of variable\n",
    "#another way is using format() function\n",
    "\n",
    "print('Hello my name is {} and i am {} years old'.format(name,age))\n",
    "#or\n",
    "print('Hello my name is {1} and i am {0} years old'.format(name,age))\n",
    "#or\n",
    "print('Hello my name is {n} and i am {a} years old'.format(n=name,a=age))"
   ]
  },
  {
   "cell_type": "code",
   "execution_count": 56,
   "metadata": {},
   "outputs": [
    {
     "name": "stdout",
     "output_type": "stream",
     "text": [
      "140727742444024\n",
      "140727742444456\n",
      "140727742444024\n"
     ]
    }
   ],
   "source": [
    "#string indexing\n",
    "\n",
    "name = 'foziaf'\n",
    "       #'01234'\n",
    "\n",
    "print(id(name[0]))\n",
    "print(id(name[1]))\n",
    "print(id(name[5]))\n"
   ]
  },
  {
   "cell_type": "code",
   "execution_count": 60,
   "metadata": {},
   "outputs": [
    {
     "name": "stdout",
     "output_type": "stream",
     "text": [
      "fzar\n"
     ]
    }
   ],
   "source": [
    "#string slicing\n",
    "\n",
    "name = 'foziaerr'\n",
    "print(name[::2])\n"
   ]
  }
 ],
 "metadata": {
  "kernelspec": {
   "display_name": "base",
   "language": "python",
   "name": "python3"
  },
  "language_info": {
   "codemirror_mode": {
    "name": "ipython",
    "version": 3
   },
   "file_extension": ".py",
   "mimetype": "text/x-python",
   "name": "python",
   "nbconvert_exporter": "python",
   "pygments_lexer": "ipython3",
   "version": "3.12.4"
  }
 },
 "nbformat": 4,
 "nbformat_minor": 2
}
